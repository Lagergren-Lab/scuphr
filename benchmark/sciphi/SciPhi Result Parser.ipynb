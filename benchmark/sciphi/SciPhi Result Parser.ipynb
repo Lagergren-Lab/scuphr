{
 "cells": [
  {
   "cell_type": "markdown",
   "metadata": {},
   "source": [
    "# Sci$\\phi$ Result Parser\n",
    "\n",
    "This notebook shows how to parse Sci$\\phi$ results (the mutation tree) and save as Newick trees. "
   ]
  },
  {
   "cell_type": "code",
   "execution_count": 1,
   "metadata": {
    "collapsed": true
   },
   "outputs": [],
   "source": [
    "filename = \"../results/sciphi_raw_results.gv\"\n",
    "out_filename = \"../results/sciphi_processed_results.tre\"\n",
    "out_filename_normed = \"../results/sciphi_processed_results_normed.tre\""
   ]
  },
  {
   "cell_type": "code",
   "execution_count": 2,
   "metadata": {
    "collapsed": false
   },
   "outputs": [
    {
     "name": "stdout",
     "output_type": "stream",
     "text": [
      "\n",
      "STEP 1. Creating taxa list...\n",
      "\n",
      "STEP 2. Creating the information mapping...\n",
      "\tTotal number of mutations: \t 1950\n",
      "\n",
      "STEP 3. Creating the parent-child files...\n",
      "\n",
      "STEP 4. Creating the ete3 trees and saving Newick files...\n",
      "\n",
      "STEP 5. Cleaning intermediate files...\n"
     ]
    }
   ],
   "source": [
    "%run sciphi_result_parser.py $filename 18 --output_filepath $out_filename --output_filepath_normed $out_filename_normed"
   ]
  },
  {
   "cell_type": "markdown",
   "metadata": {},
   "source": [
    "## Look at the Results"
   ]
  },
  {
   "cell_type": "markdown",
   "metadata": {},
   "source": [
    "### Render the source tree file"
   ]
  },
  {
   "cell_type": "code",
   "execution_count": 3,
   "metadata": {
    "collapsed": false
   },
   "outputs": [
    {
     "data": {
      "text/plain": [
       "'../results/sciphi_raw_results.gv.pdf'"
      ]
     },
     "execution_count": 3,
     "metadata": {},
     "output_type": "execute_result"
    }
   ],
   "source": [
    "from graphviz import Source\n",
    "s = Source.from_file(filename)\n",
    "s.view()"
   ]
  },
  {
   "cell_type": "markdown",
   "metadata": {},
   "source": [
    "### Plot the output tree file"
   ]
  },
  {
   "cell_type": "code",
   "execution_count": 4,
   "metadata": {
    "collapsed": false
   },
   "outputs": [
    {
     "name": "stdout",
     "output_type": "stream",
     "text": [
      "(((V0:23,((V9:14,((V6:13,((V2:17,(V4:36,(V5:35,V7:0,(V11:5,V10:5):570):1):355):12,V3:22):14):19,V1:24):30):14,V8:15):61):66,(V12:19,(V14:17,(V17:17,(V15:14,V13:16):45):39):35):47):86,V16:44);\n",
      "\n",
      "         /-V0\n",
      "        |\n",
      "        |      /-V9\n",
      "        |     |\n",
      "        |     |      /-V6\n",
      "        |     |     |\n",
      "        |     |     |      /-V2\n",
      "      /-|     |     |     |\n",
      "     |  |   /-|   /-|   /-|   /-V4\n",
      "     |  |  |  |  |  |  |  |  |\n",
      "     |  |  |  |  |  |  |   \\-|   /-V5\n",
      "     |  |  |  |  |  |  |     |  |\n",
      "     |  |  |  |  |  |  |      \\-|--V7\n",
      "     |  |  |  |  |   \\-|        |\n",
      "     |  |  |   \\-|     |        |   /-V11\n",
      "     |   \\-|     |     |         \\-|\n",
      "   /-|     |     |     |            \\-V10\n",
      "  |  |     |     |     |\n",
      "  |  |     |     |      \\-V3\n",
      "  |  |     |     |\n",
      "  |  |     |      \\-V1\n",
      "  |  |     |\n",
      "  |  |      \\-V8\n",
      "  |  |\n",
      "  |  |   /-V12\n",
      "--|   \\-|\n",
      "  |     |   /-V14\n",
      "  |      \\-|\n",
      "  |        |   /-V17\n",
      "  |         \\-|\n",
      "  |           |   /-V15\n",
      "  |            \\-|\n",
      "  |               \\-V13\n",
      "  |\n",
      "   \\-V16\n"
     ]
    }
   ],
   "source": [
    "from ete3 import Tree\n",
    "t = Tree(out_filename)\n",
    "print(t.write(format=5))\n",
    "print(t)"
   ]
  },
  {
   "cell_type": "code",
   "execution_count": null,
   "metadata": {
    "collapsed": true
   },
   "outputs": [],
   "source": []
  }
 ],
 "metadata": {
  "kernelspec": {
   "display_name": "Python 3",
   "language": "python",
   "name": "python3"
  },
  "language_info": {
   "codemirror_mode": {
    "name": "ipython",
    "version": 3
   },
   "file_extension": ".py",
   "mimetype": "text/x-python",
   "name": "python",
   "nbconvert_exporter": "python",
   "pygments_lexer": "ipython3",
   "version": "3.5.4"
  }
 },
 "nbformat": 4,
 "nbformat_minor": 2
}
