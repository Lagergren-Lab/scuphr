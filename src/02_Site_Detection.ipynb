{
 "cells": [
  {
   "cell_type": "markdown",
   "metadata": {},
   "source": [
    "# 02. Site Detection\n",
    "\n",
    "This notebook detects possibly mutated sites and extracts data to analyse later. \n",
    "\n",
    "Steps: \n",
    "* Site detection (site_detection.py)\n",
    "* Dataset Generation (generate_dataset.py)"
   ]
  },
  {
   "cell_type": "markdown",
   "metadata": {},
   "source": [
    "### Detect Site"
   ]
  },
  {
   "cell_type": "code",
   "execution_count": 3,
   "metadata": {
    "collapsed": false,
    "scrolled": true
   },
   "outputs": [
    {
     "name": "stdout",
     "output_type": "stream",
     "text": [
      "usage: site_detection.py [-h] [--bulk_depth_threshold BULK_DEPTH_THRESHOLD]\n",
      "                         [--cell_depth_threshold CELL_DEPTH_THRESHOLD]\n",
      "                         [--chr_id CHR_ID]\n",
      "                         [--het_ratio_threshold HET_RATIO_THRESHOLD]\n",
      "                         [--min_line MIN_LINE] [--max_line MAX_LINE]\n",
      "                         [--nuc_depth_threshold NUC_DEPTH_THRESHOLD]\n",
      "                         [--print_status PRINT_STATUS]\n",
      "                         [--read_length READ_LENGTH] [--seed_val SEED_VAL]\n",
      "                         global_dir num_cells\n",
      "\n",
      "Site detection.\n",
      "\n",
      "positional arguments:\n",
      "  global_dir            Specify the directory.\n",
      "  num_cells             Specify the number of cells.\n",
      "\n",
      "optional arguments:\n",
      "  -h, --help            show this help message and exit\n",
      "  --bulk_depth_threshold BULK_DEPTH_THRESHOLD\n",
      "                        Specify the bulk depth threshold. Default: 20\n",
      "  --cell_depth_threshold CELL_DEPTH_THRESHOLD\n",
      "                        Specify the cell depth threshold. Default: 0\n",
      "  --chr_id CHR_ID       Specify the chromosome number. Default: 1\n",
      "  --het_ratio_threshold HET_RATIO_THRESHOLD\n",
      "                        Specify the bulk heterozygous ratio threshold.\n",
      "                        Default: 0.2\n",
      "  --min_line MIN_LINE   Specify the line number of min het position. Default:\n",
      "                        0\n",
      "  --max_line MAX_LINE   Specify the line number of max het position. Default:\n",
      "                        0\n",
      "  --nuc_depth_threshold NUC_DEPTH_THRESHOLD\n",
      "                        Specify the minimum number of valid reads. Default: 2\n",
      "  --print_status PRINT_STATUS\n",
      "                        Specify the print (0 for do not print, 1 for print).\n",
      "                        Default: 0\n",
      "  --read_length READ_LENGTH\n",
      "                        Specify the read length. Default: 100\n",
      "  --seed_val SEED_VAL   Specify the seed. Default: 123\n"
     ]
    }
   ],
   "source": [
    "%run site_detection.py --help"
   ]
  },
  {
   "cell_type": "code",
   "execution_count": 4,
   "metadata": {
    "collapsed": false,
    "scrolled": true
   },
   "outputs": [
    {
     "name": "stdout",
     "output_type": "stream",
     "text": [
      "Global directory:  ../data/2020_07_09_1/\n",
      "\n",
      "*****STEP 1\n",
      "\n",
      "\n",
      "Pair dict is saved to:  ../data/2020_07_09_1/processed_data/pair_dict.pickle\n",
      "\n",
      "Pair dict is saved to:  ../data/2020_07_09_1/processed_data/pair_dict_0_0.pickle\n",
      "\n",
      "Number of selected pairs:  5\n",
      "\tNumber of unique het. sites:  6\n",
      "\tNumber of unique hom. sites:  5\n",
      "\tNumber of removed duplicate homozygous sites:  1\n",
      "\tTotal number of pairs:  5\n",
      "\n",
      "*****\n",
      "Total time:  126.02417302131653\n",
      "\n",
      "*****STEP 2\n",
      "\n",
      "\tBulk pairs dictionary is saved to: \t ../data/2020_07_09_1/processed_data/bulk_pairs.pickle\n",
      "\tCell pairs dictionary is saved to: \t ../data/2020_07_09_1/processed_data/cell_0_pairs.pickle\n",
      "\tCell pairs dictionary is saved to: \t ../data/2020_07_09_1/processed_data/cell_1_pairs.pickle\n",
      "\tCell pairs dictionary is saved to: \t ../data/2020_07_09_1/processed_data/cell_2_pairs.pickle\n",
      "\tCell pairs dictionary is saved to: \t ../data/2020_07_09_1/processed_data/cell_3_pairs.pickle\n",
      "\tCell pairs dictionary is saved to: \t ../data/2020_07_09_1/processed_data/cell_4_pairs.pickle\n",
      "\tAll cell pairs dictionary is saved to: \t ../data/2020_07_09_1/processed_data/all_cell_dict_pair.pickle\n",
      "\n",
      "*****\n",
      "Total time:  0.003403902053833008\n",
      "\n",
      "*****DONE!\n",
      "\n",
      "\n",
      "*****\n",
      "Total global time:  126.02766394615173\n"
     ]
    }
   ],
   "source": [
    "%run site_detection.py \"../data/2020_07_09_1/\" 5"
   ]
  },
  {
   "cell_type": "markdown",
   "metadata": {},
   "source": [
    "### Generate Dataset"
   ]
  },
  {
   "cell_type": "code",
   "execution_count": 5,
   "metadata": {
    "collapsed": false
   },
   "outputs": [
    {
     "name": "stdout",
     "output_type": "stream",
     "text": [
      "usage: generate_dataset.py [-h] [--chr_id CHR_ID] [--data_type DATA_TYPE]\n",
      "                           [--min_read_count MIN_READ_COUNT]\n",
      "                           [--max_read_count MAX_READ_COUNT]\n",
      "                           [--max_site_count MAX_SITE_COUNT]\n",
      "                           [--min_cell_count MIN_CELL_COUNT]\n",
      "                           [--output_dict_dir OUTPUT_DICT_DIR]\n",
      "                           [--read_length READ_LENGTH] [--seed_val SEED_VAL]\n",
      "                           global_dir num_cells\n",
      "\n",
      "Site detection.\n",
      "\n",
      "positional arguments:\n",
      "  global_dir            Specify the directory.\n",
      "  num_cells             Specify the number of cells.\n",
      "\n",
      "optional arguments:\n",
      "  -h, --help            show this help message and exit\n",
      "  --chr_id CHR_ID       Specify the chromosome number. Default: 1\n",
      "  --data_type DATA_TYPE\n",
      "                        Specify the data type. Default: real\n",
      "  --min_read_count MIN_READ_COUNT\n",
      "                        Specify the minimum read count. Default: 0\n",
      "  --max_read_count MAX_READ_COUNT\n",
      "                        Specify the maximum read count (0 for all). Default: 0\n",
      "  --max_site_count MAX_SITE_COUNT\n",
      "                        Specify the maximum site count (0 for all). Default: 0\n",
      "  --min_cell_count MIN_CELL_COUNT\n",
      "                        Specify the minimum cell count. Default: 2\n",
      "  --output_dict_dir OUTPUT_DICT_DIR\n",
      "                        Specify the output dictionary directory.\n",
      "  --read_length READ_LENGTH\n",
      "                        Specify the read length. Default: 100\n",
      "  --seed_val SEED_VAL   Specify the seed. Default: 123\n"
     ]
    }
   ],
   "source": [
    "%run generate_dataset.py --help"
   ]
  },
  {
   "cell_type": "code",
   "execution_count": 6,
   "metadata": {
    "collapsed": false
   },
   "outputs": [
    {
     "name": "stdout",
     "output_type": "stream",
     "text": [
      "Global directory:  ../data/2020_07_09_1/\n",
      "Output directory:  ../data/2020_07_09_1/processed_data_dict/\n",
      "Directory is created.\t ../data/2020_07_09_1/processed_data_dict/\n",
      "\n",
      "Part 1: Load bulk pairs dictionary.\n",
      "\n",
      "Total time:  0.000244140625\n",
      "Part 1 ends...\n",
      "\n",
      "Part 2: Load cells' pairs dictionaries.\n",
      "\n",
      "\n",
      "Total time:  0.0020339488983154297\n",
      "Part 2 ends...\n",
      "\n",
      "Part 3: Generate dataset.\n",
      "\n",
      "\tTotal number of positions:  5\n",
      "\tTotal number of skipped positions:  0\n",
      "\n",
      "Total time:  0.015757083892822266\n",
      "Part 3 ends...\n",
      "\n",
      "Part 4: Shuffle and partition the dataset.\n",
      "\n",
      "\n",
      "Shuffle and partition dataset\n",
      "\n",
      "Shuffled data ( 5 ) is saved to:  ../data/2020_07_09_1/processed_data_dict/data_shuffled.pickle\n",
      "Saving test data ( 2 ) is saved to:  ../data/2020_07_09_1/processed_data_dict/data_test.pickle\n",
      "Saving train data ( 3 ) is saved to:  ../data/2020_07_09_1/processed_data_dict/data_train.pickle\n",
      "Saving shuffled data ( 5 ) is saved to:  ../data/2020_07_09_1/processed_data_dict/data.pickle\n",
      "\n",
      "Total time:  0.00856781005859375\n",
      "Part 4 ends...\n",
      "\n",
      "Part 5: Analyse results.\n",
      "\n",
      "\tSite detection results: \n",
      "\tTotal number of (real) mutated sites:  250\n",
      "\n",
      "\tTotal number of (real) detectable mutated sites (close to gSNV locations):  126\n",
      "\t\tNumber of (real) detectable mutated sites (on internal edges): \t 44\n",
      "\t\tNumber of (real) detectable mutated sites (on leaf edges): \t 82\n",
      "\n",
      "\tTotal number of sites correctly detected \t(True Positive): \t 5\n",
      "\t\tNumber of mutated sites (detected) (on internal edges): \t 5 \t out of  44 \tperc:  11.364\n",
      "\t\tNumber of mutated sites (detected) (on leaf edges): \t\t 0 \t out of  82 \tperc:  0.0\n",
      "\tTotal number of sites incorrectly detected \t(False Positive): \t 0\n",
      "\n",
      "\tTotal number of mutated sites undetected \t(False Negative): \t 121\n",
      "\n",
      "\tSensitivity (True positive rate): \t 0.03968253968253968\n",
      "\tPrecision: \t\t\t\t 1.0\n",
      "\tMiss rate (False negative rate): \t 0.9603174603174603\n",
      "\tFalse discovery rate: \t\t\t 0.0\n",
      "\tF1 score: \t\t\t\t 0.07633587786259542\n",
      "\n",
      "\tUndetected inner edge mutations:  39\n",
      "[80, 88, 259, 416, 1494, 1509, 1593, 2020, 2233, 2344, 2592, 2802, 3393, 3410, 3898, 3912, 4003, 4049, 4081, 4442, 4747, 4751, 4822, 5323, 5741, 5970, 6261, 6442, 6517, 7146, 7417, 7438, 8181, 8446, 8846, 9238, 9335, 9412, 9445]\n",
      "\n",
      "Total time:  0.0057888031005859375\n",
      "Part 5 ends...\n",
      "\n",
      "All done!\n",
      "Total time:  0.03343486785888672\n"
     ]
    }
   ],
   "source": [
    "%run generate_dataset.py \"../data/2020_07_09_1/\" 5 --max_read_count 10 --data_type synthetic "
   ]
  },
  {
   "cell_type": "code",
   "execution_count": null,
   "metadata": {
    "collapsed": true
   },
   "outputs": [],
   "source": []
  }
 ],
 "metadata": {
  "kernelspec": {
   "display_name": "Python 3",
   "language": "python",
   "name": "python3"
  },
  "language_info": {
   "codemirror_mode": {
    "name": "ipython",
    "version": 3
   },
   "file_extension": ".py",
   "mimetype": "text/x-python",
   "name": "python",
   "nbconvert_exporter": "python",
   "pygments_lexer": "ipython3",
   "version": "3.5.4"
  }
 },
 "nbformat": 4,
 "nbformat_minor": 2
}
